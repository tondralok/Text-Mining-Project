{
 "cells": [
  {
   "cell_type": "code",
   "execution_count": 1,
   "metadata": {
    "execution": {
     "iopub.execute_input": "2022-03-09T20:51:32.617662Z",
     "iopub.status.busy": "2022-03-09T20:51:32.617331Z",
     "iopub.status.idle": "2022-03-09T20:51:32.778839Z",
     "shell.execute_reply": "2022-03-09T20:51:32.777945Z",
     "shell.execute_reply.started": "2022-03-09T20:51:32.617628Z"
    }
   },
   "outputs": [
    {
     "data": {
      "text/plain": [
       "['Unnamed: 0',\n",
       " 'description',\n",
       " 'medical_specialty',\n",
       " 'sample_name',\n",
       " 'transcription',\n",
       " 'keywords']"
      ]
     },
     "execution_count": 1,
     "metadata": {},
     "output_type": "execute_result"
    }
   ],
   "source": [
    "#Data Loading:\n",
    "\n",
    "import pandas as pd\n",
    "df=pd.read_csv('mtsamples.csv')\n",
    "import pandas as pd\n",
    "list(df.columns)"
   ]
  },
  {
   "cell_type": "code",
   "execution_count": 2,
   "metadata": {
    "execution": {
     "iopub.execute_input": "2022-03-09T20:51:32.780531Z",
     "iopub.status.busy": "2022-03-09T20:51:32.780274Z",
     "iopub.status.idle": "2022-03-09T20:51:32.814687Z",
     "shell.execute_reply": "2022-03-09T20:51:32.813790Z",
     "shell.execute_reply.started": "2022-03-09T20:51:32.780501Z"
    }
   },
   "outputs": [
    {
     "name": "stderr",
     "output_type": "stream",
     "text": [
      "C:\\Users\\Farhana\\AppData\\Local\\Temp/ipykernel_4736/3541609283.py:3: SettingWithCopyWarning: \n",
      "A value is trying to be set on a copy of a slice from a DataFrame.\n",
      "Try using .loc[row_indexer,col_indexer] = value instead\n",
      "\n",
      "See the caveats in the documentation: https://pandas.pydata.org/pandas-docs/stable/user_guide/indexing.html#returning-a-view-versus-a-copy\n",
      "  df_classify['medical_specialty']=df_classify['medical_specialty'].str.strip()\n"
     ]
    },
    {
     "data": {
      "text/html": [
       "<div>\n",
       "<style scoped>\n",
       "    .dataframe tbody tr th:only-of-type {\n",
       "        vertical-align: middle;\n",
       "    }\n",
       "\n",
       "    .dataframe tbody tr th {\n",
       "        vertical-align: top;\n",
       "    }\n",
       "\n",
       "    .dataframe thead th {\n",
       "        text-align: right;\n",
       "    }\n",
       "</style>\n",
       "<table border=\"1\" class=\"dataframe\">\n",
       "  <thead>\n",
       "    <tr style=\"text-align: right;\">\n",
       "      <th></th>\n",
       "      <th>transcription</th>\n",
       "      <th>medical_specialty</th>\n",
       "    </tr>\n",
       "  </thead>\n",
       "  <tbody>\n",
       "    <tr>\n",
       "      <th>count</th>\n",
       "      <td>4966</td>\n",
       "      <td>4999</td>\n",
       "    </tr>\n",
       "    <tr>\n",
       "      <th>unique</th>\n",
       "      <td>2357</td>\n",
       "      <td>40</td>\n",
       "    </tr>\n",
       "    <tr>\n",
       "      <th>top</th>\n",
       "      <td>PREOPERATIVE DIAGNOSIS: , Low back pain.,POSTO...</td>\n",
       "      <td>Surgery</td>\n",
       "    </tr>\n",
       "    <tr>\n",
       "      <th>freq</th>\n",
       "      <td>5</td>\n",
       "      <td>1103</td>\n",
       "    </tr>\n",
       "  </tbody>\n",
       "</table>\n",
       "</div>"
      ],
      "text/plain": [
       "                                            transcription medical_specialty\n",
       "count                                                4966              4999\n",
       "unique                                               2357                40\n",
       "top     PREOPERATIVE DIAGNOSIS: , Low back pain.,POSTO...           Surgery\n",
       "freq                                                    5              1103"
      ]
     },
     "execution_count": 2,
     "metadata": {},
     "output_type": "execute_result"
    }
   ],
   "source": [
    "#Remove irrelevant Columns:'\n",
    "\n",
    "del df['Unnamed: 0']\n",
    "df_classify=df[[\"transcription\",\"medical_specialty\"]]\n",
    "df_classify['medical_specialty']=df_classify['medical_specialty'].str.strip()\n",
    "df_classify.describe()"
   ]
  },
  {
   "cell_type": "code",
   "execution_count": 3,
   "metadata": {
    "execution": {
     "iopub.execute_input": "2022-03-09T20:51:32.818232Z",
     "iopub.status.busy": "2022-03-09T20:51:32.817439Z",
     "iopub.status.idle": "2022-03-09T20:51:32.830434Z",
     "shell.execute_reply": "2022-03-09T20:51:32.829547Z",
     "shell.execute_reply.started": "2022-03-09T20:51:32.818167Z"
    }
   },
   "outputs": [
    {
     "data": {
      "text/html": [
       "<div>\n",
       "<style scoped>\n",
       "    .dataframe tbody tr th:only-of-type {\n",
       "        vertical-align: middle;\n",
       "    }\n",
       "\n",
       "    .dataframe tbody tr th {\n",
       "        vertical-align: top;\n",
       "    }\n",
       "\n",
       "    .dataframe thead th {\n",
       "        text-align: right;\n",
       "    }\n",
       "</style>\n",
       "<table border=\"1\" class=\"dataframe\">\n",
       "  <thead>\n",
       "    <tr style=\"text-align: right;\">\n",
       "      <th></th>\n",
       "      <th>description</th>\n",
       "      <th>medical_specialty</th>\n",
       "      <th>sample_name</th>\n",
       "      <th>transcription</th>\n",
       "      <th>keywords</th>\n",
       "    </tr>\n",
       "  </thead>\n",
       "  <tbody>\n",
       "    <tr>\n",
       "      <th>0</th>\n",
       "      <td>A 23-year-old white female presents with comp...</td>\n",
       "      <td>Allergy / Immunology</td>\n",
       "      <td>Allergic Rhinitis</td>\n",
       "      <td>SUBJECTIVE:,  This 23-year-old white female pr...</td>\n",
       "      <td>allergy / immunology, allergic rhinitis, aller...</td>\n",
       "    </tr>\n",
       "    <tr>\n",
       "      <th>1</th>\n",
       "      <td>Consult for laparoscopic gastric bypass.</td>\n",
       "      <td>Bariatrics</td>\n",
       "      <td>Laparoscopic Gastric Bypass Consult - 2</td>\n",
       "      <td>PAST MEDICAL HISTORY:, He has difficulty climb...</td>\n",
       "      <td>bariatrics, laparoscopic gastric bypass, weigh...</td>\n",
       "    </tr>\n",
       "    <tr>\n",
       "      <th>2</th>\n",
       "      <td>Consult for laparoscopic gastric bypass.</td>\n",
       "      <td>Bariatrics</td>\n",
       "      <td>Laparoscopic Gastric Bypass Consult - 1</td>\n",
       "      <td>HISTORY OF PRESENT ILLNESS: , I have seen ABC ...</td>\n",
       "      <td>bariatrics, laparoscopic gastric bypass, heart...</td>\n",
       "    </tr>\n",
       "    <tr>\n",
       "      <th>3</th>\n",
       "      <td>2-D M-Mode. Doppler.</td>\n",
       "      <td>Cardiovascular / Pulmonary</td>\n",
       "      <td>2-D Echocardiogram - 1</td>\n",
       "      <td>2-D M-MODE: , ,1.  Left atrial enlargement wit...</td>\n",
       "      <td>cardiovascular / pulmonary, 2-d m-mode, dopple...</td>\n",
       "    </tr>\n",
       "    <tr>\n",
       "      <th>4</th>\n",
       "      <td>2-D Echocardiogram</td>\n",
       "      <td>Cardiovascular / Pulmonary</td>\n",
       "      <td>2-D Echocardiogram - 2</td>\n",
       "      <td>1.  The left ventricular cavity size and wall ...</td>\n",
       "      <td>cardiovascular / pulmonary, 2-d, doppler, echo...</td>\n",
       "    </tr>\n",
       "  </tbody>\n",
       "</table>\n",
       "</div>"
      ],
      "text/plain": [
       "                                         description  \\\n",
       "0   A 23-year-old white female presents with comp...   \n",
       "1           Consult for laparoscopic gastric bypass.   \n",
       "2           Consult for laparoscopic gastric bypass.   \n",
       "3                             2-D M-Mode. Doppler.     \n",
       "4                                 2-D Echocardiogram   \n",
       "\n",
       "             medical_specialty                                sample_name  \\\n",
       "0         Allergy / Immunology                         Allergic Rhinitis    \n",
       "1                   Bariatrics   Laparoscopic Gastric Bypass Consult - 2    \n",
       "2                   Bariatrics   Laparoscopic Gastric Bypass Consult - 1    \n",
       "3   Cardiovascular / Pulmonary                    2-D Echocardiogram - 1    \n",
       "4   Cardiovascular / Pulmonary                    2-D Echocardiogram - 2    \n",
       "\n",
       "                                       transcription  \\\n",
       "0  SUBJECTIVE:,  This 23-year-old white female pr...   \n",
       "1  PAST MEDICAL HISTORY:, He has difficulty climb...   \n",
       "2  HISTORY OF PRESENT ILLNESS: , I have seen ABC ...   \n",
       "3  2-D M-MODE: , ,1.  Left atrial enlargement wit...   \n",
       "4  1.  The left ventricular cavity size and wall ...   \n",
       "\n",
       "                                            keywords  \n",
       "0  allergy / immunology, allergic rhinitis, aller...  \n",
       "1  bariatrics, laparoscopic gastric bypass, weigh...  \n",
       "2  bariatrics, laparoscopic gastric bypass, heart...  \n",
       "3  cardiovascular / pulmonary, 2-d m-mode, dopple...  \n",
       "4  cardiovascular / pulmonary, 2-d, doppler, echo...  "
      ]
     },
     "execution_count": 3,
     "metadata": {},
     "output_type": "execute_result"
    }
   ],
   "source": [
    "df.head()"
   ]
  },
  {
   "cell_type": "code",
   "execution_count": 4,
   "metadata": {
    "execution": {
     "iopub.execute_input": "2022-03-09T20:51:32.833857Z",
     "iopub.status.busy": "2022-03-09T20:51:32.832796Z",
     "iopub.status.idle": "2022-03-09T20:51:32.844875Z",
     "shell.execute_reply": "2022-03-09T20:51:32.844182Z",
     "shell.execute_reply.started": "2022-03-09T20:51:32.833809Z"
    }
   },
   "outputs": [
    {
     "name": "stderr",
     "output_type": "stream",
     "text": [
      "C:\\Users\\Farhana\\anaconda3\\lib\\site-packages\\pandas\\core\\frame.py:4906: SettingWithCopyWarning: \n",
      "A value is trying to be set on a copy of a slice from a DataFrame\n",
      "\n",
      "See the caveats in the documentation: https://pandas.pydata.org/pandas-docs/stable/user_guide/indexing.html#returning-a-view-versus-a-copy\n",
      "  return super().drop(\n"
     ]
    },
    {
     "data": {
      "text/plain": [
       "(4966, 2)"
      ]
     },
     "execution_count": 4,
     "metadata": {},
     "output_type": "execute_result"
    }
   ],
   "source": [
    "#Remove Null values\n",
    "\n",
    "import numpy as np\n",
    "#df_classify.notnull().sum().sort_values(ascending=False)\n",
    "nullindex=np.where(df_classify['transcription'].isnull() == True)[0]\n",
    "#df_classifynotnull = pd.isnull(df_classify[\"transcription\"])=True \n",
    "#df_classify.dropna(inplace=True)\n",
    "nullindex\n",
    "df_classify.drop(nullindex,inplace = True)\n",
    "df_classify.shape"
   ]
  },
  {
   "cell_type": "code",
   "execution_count": 5,
   "metadata": {
    "execution": {
     "iopub.execute_input": "2022-03-09T20:51:32.847251Z",
     "iopub.status.busy": "2022-03-09T20:51:32.846522Z",
     "iopub.status.idle": "2022-03-09T20:51:32.860054Z",
     "shell.execute_reply": "2022-03-09T20:51:32.859053Z",
     "shell.execute_reply.started": "2022-03-09T20:51:32.847186Z"
    }
   },
   "outputs": [
    {
     "data": {
      "text/plain": [
       "medical_specialty            \n",
       "Surgery                          1088\n",
       "Consult - History and Phy.        516\n",
       "Cardiovascular / Pulmonary        371\n",
       "Orthopedic                        355\n",
       "Radiology                         273\n",
       "General Medicine                  259\n",
       "Gastroenterology                  224\n",
       "Neurology                         223\n",
       "SOAP / Chart / Progress Notes     166\n",
       "Urology                           156\n",
       "Obstetrics / Gynecology           155\n",
       "Discharge Summary                 108\n",
       "ENT - Otolaryngology               96\n",
       "Neurosurgery                       94\n",
       "Hematology - Oncology              90\n",
       "Ophthalmology                      83\n",
       "Nephrology                         81\n",
       "Emergency Room Reports             75\n",
       "Pediatrics - Neonatal              70\n",
       "Pain Management                    61\n",
       "Psychiatry / Psychology            53\n",
       "Office Notes                       50\n",
       "Podiatry                           47\n",
       "Dermatology                        29\n",
       "Dentistry                          27\n",
       "Cosmetic / Plastic Surgery         27\n",
       "Letters                            23\n",
       "Physical Medicine - Rehab          21\n",
       "Sleep Medicine                     20\n",
       "Endocrinology                      19\n",
       "Bariatrics                         18\n",
       "IME-QME-Work Comp etc.             16\n",
       "Chiropractic                       14\n",
       "Diets and Nutritions               10\n",
       "Rheumatology                       10\n",
       "Speech - Language                   9\n",
       "Autopsy                             8\n",
       "Lab Medicine - Pathology            8\n",
       "Allergy / Immunology                7\n",
       "Hospice - Palliative Care           6\n",
       "dtype: int64"
      ]
     },
     "execution_count": 5,
     "metadata": {},
     "output_type": "execute_result"
    }
   ],
   "source": [
    "df_classify[[\"medical_specialty\"]].value_counts()"
   ]
  },
  {
   "cell_type": "code",
   "execution_count": 6,
   "metadata": {
    "execution": {
     "iopub.execute_input": "2022-03-09T20:51:32.864403Z",
     "iopub.status.busy": "2022-03-09T20:51:32.861774Z",
     "iopub.status.idle": "2022-03-09T20:51:33.478665Z",
     "shell.execute_reply": "2022-03-09T20:51:33.477748Z",
     "shell.execute_reply.started": "2022-03-09T20:51:32.864347Z"
    }
   },
   "outputs": [
    {
     "data": {
      "text/plain": [
       "Text(0.5, 1.0, 'Comparison between different medical specialities')"
      ]
     },
     "execution_count": 6,
     "metadata": {},
     "output_type": "execute_result"
    },
    {
     "data": {
      "image/png": "[encoded data removed]",
      "text/plain": [
       "<Figure size 1080x864 with 1 Axes>"
      ]
     },
     "metadata": {
      "needs_background": "light"
     },
     "output_type": "display_data"
    }
   ],
   "source": [
    "#Barplot of Classes\n",
    "\n",
    "import numpy as np\n",
    "import matplotlib.pyplot as plt\n",
    "import seaborn as sns\n",
    "from sklearn.naive_bayes import MultinomialNB\n",
    "df_count = df_classify['medical_specialty'].value_counts()\n",
    "df_count\n",
    "y = np.array(df_count.index)\n",
    "x = np.array(df_count.values)\n",
    "plt.figure(figsize=(15,12))\n",
    "sns.barplot(x=x,y=y)\n",
    "plt.ylabel('Medical Speciality')\n",
    "plt.yticks(rotation=0)\n",
    "plt.xlabel('Count')\n",
    "plt.title('Comparison between different medical specialities')\n",
    "#plt.savefig('Sentiment.eps')\n"
   ]
  },
  {
   "cell_type": "code",
   "execution_count": 7,
   "metadata": {
    "execution": {
     "iopub.execute_input": "2022-03-09T20:51:33.480023Z",
     "iopub.status.busy": "2022-03-09T20:51:33.479793Z",
     "iopub.status.idle": "2022-03-09T20:51:33.494368Z",
     "shell.execute_reply": "2022-03-09T20:51:33.493464Z",
     "shell.execute_reply.started": "2022-03-09T20:51:33.479996Z"
    }
   },
   "outputs": [
    {
     "name": "stdout",
     "output_type": "stream",
     "text": [
      "MultiIndex([(                      'Surgery',),\n",
      "            (   'Consult - History and Phy.',),\n",
      "            (   'Cardiovascular / Pulmonary',),\n",
      "            (                   'Orthopedic',),\n",
      "            (                    'Radiology',),\n",
      "            (             'General Medicine',),\n",
      "            (             'Gastroenterology',),\n",
      "            (                    'Neurology',),\n",
      "            ('SOAP / Chart / Progress Notes',),\n",
      "            (                      'Urology',),\n",
      "            (      'Obstetrics / Gynecology',),\n",
      "            (            'Discharge Summary',),\n",
      "            (         'ENT - Otolaryngology',),\n",
      "            (                 'Neurosurgery',),\n",
      "            (        'Hematology - Oncology',),\n",
      "            (                'Ophthalmology',),\n",
      "            (                   'Nephrology',),\n",
      "            (       'Emergency Room Reports',),\n",
      "            (        'Pediatrics - Neonatal',),\n",
      "            (              'Pain Management',),\n",
      "            (      'Psychiatry / Psychology',)],\n",
      "           names=['medical_specialty'])\n"
     ]
    }
   ],
   "source": [
    "#Cleaning data\n",
    "\n",
    "names=((df_classify[[\"medical_specialty\"]].value_counts()).index)\n",
    "selected=names[np.where(df_classify[[\"medical_specialty\"]].value_counts()>50)]\n",
    "print(selected)\n",
    "removed_cat=list(['Discharge Summary','Consult - History and Phy.','SOAP / Chart / Progress Notes','Emergency Room Reports','Office Notes',\n",
    "                 'Letters','Surgery','Radiology','Orthopedic','General Medicine'])"
   ]
  },
  {
   "cell_type": "markdown",
   "metadata": {
    "execution": {
     "iopub.execute_input": "2022-03-03T11:27:20.710185Z",
     "iopub.status.busy": "2022-03-03T11:27:20.70925Z",
     "iopub.status.idle": "2022-03-03T11:27:20.720323Z",
     "shell.execute_reply": "2022-03-03T11:27:20.719716Z",
     "shell.execute_reply.started": "2022-03-03T11:27:20.710129Z"
    }
   },
   "source": [
    "np.where(df_classify[[\"medical_specialty\"]].isin([\"Nephrology\"])== True)[0]\n",
    "(df_classify[df_classify['medical_specialty'].isin(aList)]).shape\n"
   ]
  },
  {
   "cell_type": "code",
   "execution_count": 8,
   "metadata": {
    "execution": {
     "iopub.execute_input": "2022-03-09T20:51:33.495863Z",
     "iopub.status.busy": "2022-03-09T20:51:33.495654Z",
     "iopub.status.idle": "2022-03-09T20:51:33.504500Z",
     "shell.execute_reply": "2022-03-09T20:51:33.503659Z",
     "shell.execute_reply.started": "2022-03-09T20:51:33.495838Z"
    }
   },
   "outputs": [
    {
     "data": {
      "text/plain": [
       "(4597, 2)"
      ]
     },
     "execution_count": 8,
     "metadata": {},
     "output_type": "execute_result"
    }
   ],
   "source": [
    "#Cleaning data\n",
    "\n",
    "import functools\n",
    "import operator\n",
    "aList=list(functools.reduce(operator.add, (selected)))\n",
    "df_new=df_classify[df_classify['medical_specialty'].isin(aList)]\n",
    "df_new.shape\n",
    "\n"
   ]
  },
  {
   "cell_type": "code",
   "execution_count": 9,
   "metadata": {
    "execution": {
     "iopub.execute_input": "2022-03-09T20:51:33.506222Z",
     "iopub.status.busy": "2022-03-09T20:51:33.505514Z",
     "iopub.status.idle": "2022-03-09T20:51:33.520861Z",
     "shell.execute_reply": "2022-03-09T20:51:33.520258Z",
     "shell.execute_reply.started": "2022-03-09T20:51:33.506169Z"
    }
   },
   "outputs": [
    {
     "data": {
      "text/html": [
       "<div>\n",
       "<style scoped>\n",
       "    .dataframe tbody tr th:only-of-type {\n",
       "        vertical-align: middle;\n",
       "    }\n",
       "\n",
       "    .dataframe tbody tr th {\n",
       "        vertical-align: top;\n",
       "    }\n",
       "\n",
       "    .dataframe thead th {\n",
       "        text-align: right;\n",
       "    }\n",
       "</style>\n",
       "<table border=\"1\" class=\"dataframe\">\n",
       "  <thead>\n",
       "    <tr style=\"text-align: right;\">\n",
       "      <th></th>\n",
       "      <th>transcription</th>\n",
       "      <th>medical_specialty</th>\n",
       "    </tr>\n",
       "  </thead>\n",
       "  <tbody>\n",
       "    <tr>\n",
       "      <th>0</th>\n",
       "      <td>2-D M-MODE: , ,1.  Left atrial enlargement wit...</td>\n",
       "      <td>Cardiovascular / Pulmonary</td>\n",
       "    </tr>\n",
       "    <tr>\n",
       "      <th>1</th>\n",
       "      <td>1.  The left ventricular cavity size and wall ...</td>\n",
       "      <td>Cardiovascular / Pulmonary</td>\n",
       "    </tr>\n",
       "    <tr>\n",
       "      <th>2</th>\n",
       "      <td>2-D ECHOCARDIOGRAM,Multiple views of the heart...</td>\n",
       "      <td>Cardiovascular / Pulmonary</td>\n",
       "    </tr>\n",
       "    <tr>\n",
       "      <th>3</th>\n",
       "      <td>DESCRIPTION:,1.  Normal cardiac chambers size....</td>\n",
       "      <td>Cardiovascular / Pulmonary</td>\n",
       "    </tr>\n",
       "    <tr>\n",
       "      <th>4</th>\n",
       "      <td>2-D STUDY,1. Mild aortic stenosis, widely calc...</td>\n",
       "      <td>Cardiovascular / Pulmonary</td>\n",
       "    </tr>\n",
       "  </tbody>\n",
       "</table>\n",
       "</div>"
      ],
      "text/plain": [
       "                                       transcription  \\\n",
       "0  2-D M-MODE: , ,1.  Left atrial enlargement wit...   \n",
       "1  1.  The left ventricular cavity size and wall ...   \n",
       "2  2-D ECHOCARDIOGRAM,Multiple views of the heart...   \n",
       "3  DESCRIPTION:,1.  Normal cardiac chambers size....   \n",
       "4  2-D STUDY,1. Mild aortic stenosis, widely calc...   \n",
       "\n",
       "            medical_specialty  \n",
       "0  Cardiovascular / Pulmonary  \n",
       "1  Cardiovascular / Pulmonary  \n",
       "2  Cardiovascular / Pulmonary  \n",
       "3  Cardiovascular / Pulmonary  \n",
       "4  Cardiovascular / Pulmonary  "
      ]
     },
     "execution_count": 9,
     "metadata": {},
     "output_type": "execute_result"
    }
   ],
   "source": [
    "#Cleaning data\n",
    "\n",
    "df_new2=df_new[~df_new['medical_specialty'].isin(removed_cat)]\n",
    "df_new=df_new2\n",
    "df_new.reset_index(inplace=True)\n",
    "del df_new['index']\n",
    "df_new.head()"
   ]
  },
  {
   "cell_type": "code",
   "execution_count": 10,
   "metadata": {
    "execution": {
     "iopub.execute_input": "2022-03-09T20:51:33.523863Z",
     "iopub.status.busy": "2022-03-09T20:51:33.523149Z",
     "iopub.status.idle": "2022-03-09T20:51:33.532925Z",
     "shell.execute_reply": "2022-03-09T20:51:33.532036Z",
     "shell.execute_reply.started": "2022-03-09T20:51:33.523817Z"
    }
   },
   "outputs": [
    {
     "data": {
      "text/plain": [
       "(13,)"
      ]
     },
     "execution_count": 10,
     "metadata": {},
     "output_type": "execute_result"
    }
   ],
   "source": [
    "from sklearn import preprocessing\n",
    "target = preprocessing.LabelEncoder()\n",
    "target.fit(df_new['medical_specialty'])\n",
    "target.classes_.shape"
   ]
  },
  {
   "cell_type": "code",
   "execution_count": 11,
   "metadata": {
    "execution": {
     "iopub.execute_input": "2022-03-09T20:51:33.534367Z",
     "iopub.status.busy": "2022-03-09T20:51:33.534017Z",
     "iopub.status.idle": "2022-03-09T20:51:33.544543Z",
     "shell.execute_reply": "2022-03-09T20:51:33.543504Z",
     "shell.execute_reply.started": "2022-03-09T20:51:33.534334Z"
    }
   },
   "outputs": [
    {
     "data": {
      "text/plain": [
       "array(['Cardiovascular / Pulmonary', 'ENT - Otolaryngology',\n",
       "       'Gastroenterology', 'Hematology - Oncology', 'Nephrology',\n",
       "       'Neurology', 'Neurosurgery', 'Obstetrics / Gynecology',\n",
       "       'Ophthalmology', 'Pain Management', 'Pediatrics - Neonatal',\n",
       "       'Psychiatry / Psychology', 'Urology'], dtype=object)"
      ]
     },
     "execution_count": 11,
     "metadata": {},
     "output_type": "execute_result"
    }
   ],
   "source": [
    "target.classes_"
   ]
  },
  {
   "cell_type": "code",
   "execution_count": 12,
   "metadata": {
    "execution": {
     "iopub.execute_input": "2022-03-09T20:51:33.546906Z",
     "iopub.status.busy": "2022-03-09T20:51:33.546352Z",
     "iopub.status.idle": "2022-03-09T20:51:33.882753Z",
     "shell.execute_reply": "2022-03-09T20:51:33.881775Z",
     "shell.execute_reply.started": "2022-03-09T20:51:33.546862Z"
    }
   },
   "outputs": [
    {
     "data": {
      "image/png": "[encoded data removed]",
      "text/plain": [
       "<Figure size 720x360 with 1 Axes>"
      ]
     },
     "metadata": {
      "needs_background": "light"
     },
     "output_type": "display_data"
    }
   ],
   "source": [
    "#Barplot of cleaned data\n",
    "\n",
    "import numpy as np\n",
    "import matplotlib.pyplot as plt\n",
    "import seaborn as sns\n",
    "\n",
    "df_count2 = df_new['medical_specialty'].value_counts()\n",
    "#df_count2\n",
    "x = np.array(df_count2.values)\n",
    "y = np.array(df_count2.index)\n",
    "plt.figure(figsize=(10,5))\n",
    "sns.barplot(x=x, y=y)\n",
    "#plt.yticks(rotation=0)\n",
    "plt.xlabel('Count',fontsize=20)\n",
    "plt.ylabel('Medical Speciality',fontsize=20)\n",
    "plt.title('Comparison between frequent medical specialities',fontsize=20)\n",
    "\n",
    "\n",
    "plt.tick_params(direction='out', labelsize='large')\n",
    "#plt.savefig('Sentiment.eps')\n"
   ]
  },
  {
   "cell_type": "code",
   "execution_count": 13,
   "metadata": {
    "execution": {
     "iopub.execute_input": "2022-03-09T20:51:33.884526Z",
     "iopub.status.busy": "2022-03-09T20:51:33.884168Z",
     "iopub.status.idle": "2022-03-09T20:51:33.889482Z",
     "shell.execute_reply": "2022-03-09T20:51:33.888252Z",
     "shell.execute_reply.started": "2022-03-09T20:51:33.884481Z"
    }
   },
   "outputs": [],
   "source": [
    "# Stop warnings\n",
    "\n",
    "import warnings\n",
    "warnings.filterwarnings(\"ignore\")"
   ]
  },
  {
   "cell_type": "code",
   "execution_count": 14,
   "metadata": {
    "execution": {
     "iopub.execute_input": "2022-03-09T20:51:33.890998Z",
     "iopub.status.busy": "2022-03-09T20:51:33.890766Z",
     "iopub.status.idle": "2022-03-09T20:51:36.572119Z",
     "shell.execute_reply": "2022-03-09T20:51:36.571368Z",
     "shell.execute_reply.started": "2022-03-09T20:51:33.890969Z"
    }
   },
   "outputs": [],
   "source": [
    "#Data preprocessing\n",
    "\n",
    "import spacy\n",
    "\n",
    "nlp = spacy.load(\"en_core_web_lg\")#, disable=[\"tagger\", \"parser\", \"ner\"])\n",
    "stop=[\"PROCEDURE\",\"DIAGNOSIS\",\"DESCRIPTION\",\"PREOPERATIVE\",\"PAST\",\"SUBJECTIVE\"]        \n",
    "def preprocess(text):\n",
    "    doc = nlp(text)\n",
    "    return [token.lemma_ for token in doc if (token.is_stop ==False and token.lemma_ not in stop \n",
    "                                              and len(token.lemma_)>1 and token.lemma_.isalpha()==True)]"
   ]
  },
  {
   "cell_type": "code",
   "execution_count": 15,
   "metadata": {
    "execution": {
     "iopub.execute_input": "2022-03-09T20:51:36.573591Z",
     "iopub.status.busy": "2022-03-09T20:51:36.573370Z",
     "iopub.status.idle": "2022-03-09T20:54:37.932600Z",
     "shell.execute_reply": "2022-03-09T20:54:37.931636Z",
     "shell.execute_reply.started": "2022-03-09T20:51:36.573565Z"
    }
   },
   "outputs": [],
   "source": [
    "#preprocessed=preprocess(df_new['transcription'])\n",
    "df_new['preprocessed'] = df_new['transcription'].apply(preprocess)"
   ]
  },
  {
   "cell_type": "code",
   "execution_count": 16,
   "metadata": {
    "execution": {
     "iopub.execute_input": "2022-03-09T20:54:37.934050Z",
     "iopub.status.busy": "2022-03-09T20:54:37.933832Z",
     "iopub.status.idle": "2022-03-09T20:54:37.948157Z",
     "shell.execute_reply": "2022-03-09T20:54:37.947587Z",
     "shell.execute_reply.started": "2022-03-09T20:54:37.934025Z"
    },
    "scrolled": true
   },
   "outputs": [
    {
     "data": {
      "text/html": [
       "<div>\n",
       "<style scoped>\n",
       "    .dataframe tbody tr th:only-of-type {\n",
       "        vertical-align: middle;\n",
       "    }\n",
       "\n",
       "    .dataframe tbody tr th {\n",
       "        vertical-align: top;\n",
       "    }\n",
       "\n",
       "    .dataframe thead th {\n",
       "        text-align: right;\n",
       "    }\n",
       "</style>\n",
       "<table border=\"1\" class=\"dataframe\">\n",
       "  <thead>\n",
       "    <tr style=\"text-align: right;\">\n",
       "      <th></th>\n",
       "      <th>transcription</th>\n",
       "      <th>medical_specialty</th>\n",
       "      <th>preprocessed</th>\n",
       "    </tr>\n",
       "  </thead>\n",
       "  <tbody>\n",
       "    <tr>\n",
       "      <th>0</th>\n",
       "      <td>2-D M-MODE: , ,1.  Left atrial enlargement wit...</td>\n",
       "      <td>Cardiovascular / Pulmonary</td>\n",
       "      <td>[MODE, left, atrial, enlargement, left, atrial...</td>\n",
       "    </tr>\n",
       "    <tr>\n",
       "      <th>1</th>\n",
       "      <td>1.  The left ventricular cavity size and wall ...</td>\n",
       "      <td>Cardiovascular / Pulmonary</td>\n",
       "      <td>[left, ventricular, cavity, size, wall, thickn...</td>\n",
       "    </tr>\n",
       "    <tr>\n",
       "      <th>2</th>\n",
       "      <td>2-D ECHOCARDIOGRAM,Multiple views of the heart...</td>\n",
       "      <td>Cardiovascular / Pulmonary</td>\n",
       "      <td>[ECHOCARDIOGRAM, multiple, view, heart, great,...</td>\n",
       "    </tr>\n",
       "    <tr>\n",
       "      <th>3</th>\n",
       "      <td>DESCRIPTION:,1.  Normal cardiac chambers size....</td>\n",
       "      <td>Cardiovascular / Pulmonary</td>\n",
       "      <td>[normal, cardiac, chamber, size, normal, left,...</td>\n",
       "    </tr>\n",
       "    <tr>\n",
       "      <th>4</th>\n",
       "      <td>2-D STUDY,1. Mild aortic stenosis, widely calc...</td>\n",
       "      <td>Cardiovascular / Pulmonary</td>\n",
       "      <td>[mild, aortic, stenosis, widely, calcify, mini...</td>\n",
       "    </tr>\n",
       "  </tbody>\n",
       "</table>\n",
       "</div>"
      ],
      "text/plain": [
       "                                       transcription  \\\n",
       "0  2-D M-MODE: , ,1.  Left atrial enlargement wit...   \n",
       "1  1.  The left ventricular cavity size and wall ...   \n",
       "2  2-D ECHOCARDIOGRAM,Multiple views of the heart...   \n",
       "3  DESCRIPTION:,1.  Normal cardiac chambers size....   \n",
       "4  2-D STUDY,1. Mild aortic stenosis, widely calc...   \n",
       "\n",
       "            medical_specialty  \\\n",
       "0  Cardiovascular / Pulmonary   \n",
       "1  Cardiovascular / Pulmonary   \n",
       "2  Cardiovascular / Pulmonary   \n",
       "3  Cardiovascular / Pulmonary   \n",
       "4  Cardiovascular / Pulmonary   \n",
       "\n",
       "                                        preprocessed  \n",
       "0  [MODE, left, atrial, enlargement, left, atrial...  \n",
       "1  [left, ventricular, cavity, size, wall, thickn...  \n",
       "2  [ECHOCARDIOGRAM, multiple, view, heart, great,...  \n",
       "3  [normal, cardiac, chamber, size, normal, left,...  \n",
       "4  [mild, aortic, stenosis, widely, calcify, mini...  "
      ]
     },
     "execution_count": 16,
     "metadata": {},
     "output_type": "execute_result"
    }
   ],
   "source": [
    "df_new.head()"
   ]
  },
  {
   "cell_type": "code",
   "execution_count": 17,
   "metadata": {
    "execution": {
     "iopub.execute_input": "2022-03-09T20:54:37.950234Z",
     "iopub.status.busy": "2022-03-09T20:54:37.949485Z",
     "iopub.status.idle": "2022-03-09T20:54:37.967898Z",
     "shell.execute_reply": "2022-03-09T20:54:37.966960Z",
     "shell.execute_reply.started": "2022-03-09T20:54:37.950172Z"
    }
   },
   "outputs": [
    {
     "data": {
      "text/plain": [
       "medical_specialty         \n",
       "Cardiovascular / Pulmonary    371\n",
       "Gastroenterology              224\n",
       "Neurology                     223\n",
       "Urology                       156\n",
       "Obstetrics / Gynecology       155\n",
       "ENT - Otolaryngology           96\n",
       "Neurosurgery                   94\n",
       "Hematology - Oncology          90\n",
       "Ophthalmology                  83\n",
       "Nephrology                     81\n",
       "Pediatrics - Neonatal          70\n",
       "Pain Management                61\n",
       "Psychiatry / Psychology        53\n",
       "dtype: int64"
      ]
     },
     "execution_count": 17,
     "metadata": {},
     "output_type": "execute_result"
    }
   ],
   "source": [
    "df_new[[\"medical_specialty\"]].value_counts()"
   ]
  },
  {
   "cell_type": "code",
   "execution_count": 18,
   "metadata": {
    "execution": {
     "iopub.execute_input": "2022-03-09T20:54:37.969560Z",
     "iopub.status.busy": "2022-03-09T20:54:37.969280Z",
     "iopub.status.idle": "2022-03-09T20:54:38.828436Z",
     "shell.execute_reply": "2022-03-09T20:54:38.827293Z",
     "shell.execute_reply.started": "2022-03-09T20:54:37.969530Z"
    }
   },
   "outputs": [
    {
     "data": {
      "text/html": [
       "<div>\n",
       "<style scoped>\n",
       "    .dataframe tbody tr th:only-of-type {\n",
       "        vertical-align: middle;\n",
       "    }\n",
       "\n",
       "    .dataframe tbody tr th {\n",
       "        vertical-align: top;\n",
       "    }\n",
       "\n",
       "    .dataframe thead th {\n",
       "        text-align: right;\n",
       "    }\n",
       "</style>\n",
       "<table border=\"1\" class=\"dataframe\">\n",
       "  <thead>\n",
       "    <tr style=\"text-align: right;\">\n",
       "      <th></th>\n",
       "      <th>transcription</th>\n",
       "      <th>medical_specialty</th>\n",
       "      <th>preprocessed</th>\n",
       "      <th>cleaned</th>\n",
       "    </tr>\n",
       "  </thead>\n",
       "  <tbody>\n",
       "    <tr>\n",
       "      <th>0</th>\n",
       "      <td>2-D M-MODE: , ,1.  Left atrial enlargement wit...</td>\n",
       "      <td>Cardiovascular / Pulmonary</td>\n",
       "      <td>[MODE, left, atrial, enlargement, left, atrial...</td>\n",
       "      <td>MODE left atrial enlargement left atrial diame...</td>\n",
       "    </tr>\n",
       "    <tr>\n",
       "      <th>1</th>\n",
       "      <td>1.  The left ventricular cavity size and wall ...</td>\n",
       "      <td>Cardiovascular / Pulmonary</td>\n",
       "      <td>[left, ventricular, cavity, size, wall, thickn...</td>\n",
       "      <td>left ventricular cavity size wall thickness ap...</td>\n",
       "    </tr>\n",
       "    <tr>\n",
       "      <th>2</th>\n",
       "      <td>2-D ECHOCARDIOGRAM,Multiple views of the heart...</td>\n",
       "      <td>Cardiovascular / Pulmonary</td>\n",
       "      <td>[ECHOCARDIOGRAM, multiple, view, heart, great,...</td>\n",
       "      <td>ECHOCARDIOGRAM multiple view heart great vesse...</td>\n",
       "    </tr>\n",
       "    <tr>\n",
       "      <th>3</th>\n",
       "      <td>DESCRIPTION:,1.  Normal cardiac chambers size....</td>\n",
       "      <td>Cardiovascular / Pulmonary</td>\n",
       "      <td>[normal, cardiac, chamber, size, normal, left,...</td>\n",
       "      <td>normal cardiac chamber size normal left ventri...</td>\n",
       "    </tr>\n",
       "    <tr>\n",
       "      <th>4</th>\n",
       "      <td>2-D STUDY,1. Mild aortic stenosis, widely calc...</td>\n",
       "      <td>Cardiovascular / Pulmonary</td>\n",
       "      <td>[mild, aortic, stenosis, widely, calcify, mini...</td>\n",
       "      <td>mild aortic stenosis widely calcify minimally ...</td>\n",
       "    </tr>\n",
       "    <tr>\n",
       "      <th>...</th>\n",
       "      <td>...</td>\n",
       "      <td>...</td>\n",
       "      <td>...</td>\n",
       "      <td>...</td>\n",
       "    </tr>\n",
       "    <tr>\n",
       "      <th>1752</th>\n",
       "      <td>INDICATION: , Chest pain.,TYPE OF TEST: , Aden...</td>\n",
       "      <td>Cardiovascular / Pulmonary</td>\n",
       "      <td>[INDICATION, chest, pain, test, Adenosine, nuc...</td>\n",
       "      <td>INDICATION chest pain test Adenosine nuclear s...</td>\n",
       "    </tr>\n",
       "    <tr>\n",
       "      <th>1753</th>\n",
       "      <td>CHIEF COMPLAINT: , Chest pain.,HISTORY OF PRES...</td>\n",
       "      <td>Cardiovascular / Pulmonary</td>\n",
       "      <td>[CHIEF, COMPLAINT, chest, pain, PRESENT, ILLNE...</td>\n",
       "      <td>CHIEF COMPLAINT chest pain PRESENT ILLNESS pat...</td>\n",
       "    </tr>\n",
       "    <tr>\n",
       "      <th>1754</th>\n",
       "      <td>HISTORY OF PRESENT ILLNESS: , The patient is a...</td>\n",
       "      <td>Cardiovascular / Pulmonary</td>\n",
       "      <td>[history, PRESENT, ILLNESS, patient, year, old...</td>\n",
       "      <td>history PRESENT ILLNESS patient year old woman...</td>\n",
       "    </tr>\n",
       "    <tr>\n",
       "      <th>1755</th>\n",
       "      <td>HISTORY OF PRESENT ILLNESS: , Mr. ABC is a 60-...</td>\n",
       "      <td>Cardiovascular / Pulmonary</td>\n",
       "      <td>[history, PRESENT, ILLNESS, ABC, year, old, ge...</td>\n",
       "      <td>history PRESENT ILLNESS ABC year old gentleman...</td>\n",
       "    </tr>\n",
       "    <tr>\n",
       "      <th>1756</th>\n",
       "      <td>REASON FOR CONSULTATION:  ,Abnormal echocardio...</td>\n",
       "      <td>Cardiovascular / Pulmonary</td>\n",
       "      <td>[reason, consultation, abnormal, echocardiogra...</td>\n",
       "      <td>reason consultation abnormal echocardiogram fi...</td>\n",
       "    </tr>\n",
       "  </tbody>\n",
       "</table>\n",
       "<p>1757 rows × 4 columns</p>\n",
       "</div>"
      ],
      "text/plain": [
       "                                          transcription  \\\n",
       "0     2-D M-MODE: , ,1.  Left atrial enlargement wit...   \n",
       "1     1.  The left ventricular cavity size and wall ...   \n",
       "2     2-D ECHOCARDIOGRAM,Multiple views of the heart...   \n",
       "3     DESCRIPTION:,1.  Normal cardiac chambers size....   \n",
       "4     2-D STUDY,1. Mild aortic stenosis, widely calc...   \n",
       "...                                                 ...   \n",
       "1752  INDICATION: , Chest pain.,TYPE OF TEST: , Aden...   \n",
       "1753  CHIEF COMPLAINT: , Chest pain.,HISTORY OF PRES...   \n",
       "1754  HISTORY OF PRESENT ILLNESS: , The patient is a...   \n",
       "1755  HISTORY OF PRESENT ILLNESS: , Mr. ABC is a 60-...   \n",
       "1756  REASON FOR CONSULTATION:  ,Abnormal echocardio...   \n",
       "\n",
       "               medical_specialty  \\\n",
       "0     Cardiovascular / Pulmonary   \n",
       "1     Cardiovascular / Pulmonary   \n",
       "2     Cardiovascular / Pulmonary   \n",
       "3     Cardiovascular / Pulmonary   \n",
       "4     Cardiovascular / Pulmonary   \n",
       "...                          ...   \n",
       "1752  Cardiovascular / Pulmonary   \n",
       "1753  Cardiovascular / Pulmonary   \n",
       "1754  Cardiovascular / Pulmonary   \n",
       "1755  Cardiovascular / Pulmonary   \n",
       "1756  Cardiovascular / Pulmonary   \n",
       "\n",
       "                                           preprocessed  \\\n",
       "0     [MODE, left, atrial, enlargement, left, atrial...   \n",
       "1     [left, ventricular, cavity, size, wall, thickn...   \n",
       "2     [ECHOCARDIOGRAM, multiple, view, heart, great,...   \n",
       "3     [normal, cardiac, chamber, size, normal, left,...   \n",
       "4     [mild, aortic, stenosis, widely, calcify, mini...   \n",
       "...                                                 ...   \n",
       "1752  [INDICATION, chest, pain, test, Adenosine, nuc...   \n",
       "1753  [CHIEF, COMPLAINT, chest, pain, PRESENT, ILLNE...   \n",
       "1754  [history, PRESENT, ILLNESS, patient, year, old...   \n",
       "1755  [history, PRESENT, ILLNESS, ABC, year, old, ge...   \n",
       "1756  [reason, consultation, abnormal, echocardiogra...   \n",
       "\n",
       "                                                cleaned  \n",
       "0     MODE left atrial enlargement left atrial diame...  \n",
       "1     left ventricular cavity size wall thickness ap...  \n",
       "2     ECHOCARDIOGRAM multiple view heart great vesse...  \n",
       "3     normal cardiac chamber size normal left ventri...  \n",
       "4     mild aortic stenosis widely calcify minimally ...  \n",
       "...                                                 ...  \n",
       "1752  INDICATION chest pain test Adenosine nuclear s...  \n",
       "1753  CHIEF COMPLAINT chest pain PRESENT ILLNESS pat...  \n",
       "1754  history PRESENT ILLNESS patient year old woman...  \n",
       "1755  history PRESENT ILLNESS ABC year old gentleman...  \n",
       "1756  reason consultation abnormal echocardiogram fi...  \n",
       "\n",
       "[1757 rows x 4 columns]"
      ]
     },
     "execution_count": 18,
     "metadata": {},
     "output_type": "execute_result"
    }
   ],
   "source": [
    "#Merge preprocessed data\n",
    "\n",
    "import string\n",
    "def cleaned(dat):\n",
    "    all_spam_cleaned = []\n",
    "    for text in dat:\n",
    "        text = [x.strip(string.punctuation) for x in text]\n",
    "        all_spam_cleaned.append(text)\n",
    "    text_spam = [\"\".join(text) for text in all_spam_cleaned]\n",
    "    final_text_spam = \" \".join(text_spam)\n",
    "    return(final_text_spam)\n",
    "\n",
    "#cleaned(df_new['preprocessed'][0])\n",
    "\n",
    "df_new['cleaned']=df_new['preprocessed'].apply(cleaned)\n",
    "df_new"
   ]
  },
  {
   "cell_type": "markdown",
   "metadata": {
    "execution": {
     "iopub.execute_input": "2022-03-09T20:54:38.830038Z",
     "iopub.status.busy": "2022-03-09T20:54:38.829810Z",
     "iopub.status.idle": "2022-03-09T20:54:42.960250Z",
     "shell.execute_reply": "2022-03-09T20:54:42.959222Z",
     "shell.execute_reply.started": "2022-03-09T20:54:38.830011Z"
    }
   },
   "source": [
    "from wordcloud import WordCloud, STOPWORDS,ImageColorGenerator\n",
    "import matplotlib.pyplot as plt\n",
    "from PIL import Image\n",
    "%matplotlib inline\n",
    "text=(df_new['cleaned'][0])\n",
    "wordcloud = WordCloud(max_font_size=50, max_words=100, background_color=\"white\").generate(text)\n",
    "wordcloud\n",
    "plt.imshow(wordcloud, interpolation='bilinear')\n",
    "plt.axis(\"off\")\n",
    "plt.show()\n",
    "text = \" \".join(comment for comment in df_new.cleaned)\n",
    "print (\"There are {} words in the combination of all prescriptions.\".format(len(text)))\n",
    "# Generate a word cloud image\n",
    "wordcloud = WordCloud(background_color=\"white\").generate(text)\n",
    "\n",
    "plt.imshow(wordcloud, interpolation='bilinear')\n",
    "plt.axis(\"off\")\n",
    "plt.show()\n"
   ]
  },
  {
   "cell_type": "code",
   "execution_count": 20,
   "metadata": {
    "execution": {
     "iopub.execute_input": "2022-03-09T20:54:42.963066Z",
     "iopub.status.busy": "2022-03-09T20:54:42.962368Z",
     "iopub.status.idle": "2022-03-09T20:54:42.969054Z",
     "shell.execute_reply": "2022-03-09T20:54:42.968229Z",
     "shell.execute_reply.started": "2022-03-09T20:54:42.963013Z"
    }
   },
   "outputs": [],
   "source": [
    "labels = df_new['medical_specialty'].tolist()\n",
    "category_list = df_new.medical_specialty.unique()\n"
   ]
  },
  {
   "cell_type": "code",
   "execution_count": null,
   "metadata": {},
   "outputs": [],
   "source": [
    "#Loading Libraries:\n",
    "import numpy as np\n",
    "from sklearn.pipeline import Pipeline\n",
    "from imblearn.pipeline import Pipeline \n",
    "from sklearn.model_selection import train_test_split\n",
    "from sklearn.feature_extraction.text import TfidfVectorizer,CountVectorizer,TfidfTransformer\n",
    "from sklearn.decomposition import PCA,TruncatedSVD\n",
    "from sklearn.model_selection import KFold,GridSearchCV,StratifiedKFold\n",
    "from sklearn.metrics import classification_report, confusion_matrix, accuracy_score,plot_confusion_matrix\n",
    "from sklearn.metrics import precision_score,recall_score,f1_score\n",
    "from sklearn.linear_model import LogisticRegression\n",
    "from sklearn.svm import LinearSVC\n",
    "from sklearn.ensemble import RandomForestClassifier\n",
    "from imblearn.over_sampling import RandomOverSampler,SMOTE\n",
    "from imblearn.under_sampling  import RandomUnderSampler\n",
    "from imblearn.combine import SMOTEENN"
   ]
  },
  {
   "cell_type": "code",
   "execution_count": null,
   "metadata": {
    "execution": {
     "iopub.execute_input": "2022-03-09T20:54:42.971965Z",
     "iopub.status.busy": "2022-03-09T20:54:42.971309Z",
     "iopub.status.idle": "2022-03-09T20:57:25.835129Z",
     "shell.execute_reply": "2022-03-09T20:57:25.834309Z",
     "shell.execute_reply.started": "2022-03-09T20:54:42.971913Z"
    }
   },
   "outputs": [
    {
     "name": "stdout",
     "output_type": "stream",
     "text": [
      "Fitting 3 folds for each of 24 candidates, totalling 72 fits\n"
     ]
    }
   ],
   "source": [
    "#Classification of LinearSVC with RandomOverSampler\n",
    "\n",
    "#Train test splitting\n",
    "X_train3, X_test3, y_train3, y_test3 = train_test_split(df_new['cleaned'].tolist(),df_new['medical_specialty'],\n",
    "                                       stratify=labels,test_size=0.30, random_state=42)\n",
    "\n",
    "#Creating Pipeline for all methods:\n",
    "\n",
    "pipeline3 = Pipeline([\n",
    "    ('vect',TfidfVectorizer(tokenizer=preprocess)),\n",
    "    ('smt', RandomOverSampler( random_state=42)),\n",
    "    ('pc',TruncatedSVD(n_components=500,random_state=42)),\n",
    "    ('clf1', LinearSVC(random_state=42)),\n",
    "])\n",
    "\n",
    "#Parameters for all methods \n",
    "parameters3 = {\n",
    "    'vect__analyzer':('word','char'),\n",
    "    'vect__ngram_range':((1,3),(1,2)),\n",
    "    'vect__max_df':[0.75,0.95],\n",
    "    'vect__min_df':[5],\n",
    "    'vect__max_features':[2000],\n",
    "    'clf1__loss':['squared_hinge'],\n",
    "    'clf1__C': [0.2,0.3,0.5]\n",
    "}\n",
    "\n",
    "\n",
    "sfold=StratifiedKFold(n_splits=3,shuffle=True,random_state=42)\n",
    "grid_search3 = GridSearchCV(pipeline3, parameters3, cv=sfold,n_jobs=-1, verbose=1)\n",
    "\n",
    "\n",
    "fit3=grid_search3.fit(X_train3, y_train3)\n",
    "print(\"Best parameter (Best CV score=%0.3f) from LinearSVC using RandomOverSampler:\" % grid_search3.best_score_)\n",
    "print(grid_search3.best_params_)\n",
    "fit_model3= grid_search3.best_estimator_\n",
    "pred3 = fit_model3.predict(X_test3)\n",
    "\n",
    "#Results \n",
    "\n",
    "print(\"Classification Report of LinearSVC using RandomOverSampler: \")\n",
    "print(classification_report(y_test3, pred3),\"\\n\")\n",
    "accuracy_3=accuracy_score(y_test3, pred3)\n",
    "print(\"Accuracy scored from LinearSVC using RandomOverSampler: \",accuracy_3,\"\\n\")\n",
    "conmax3=confusion_matrix(y_test3, pred3)\n",
    "precision3 = precision_score(y_test3, pred3,average='macro')\n",
    "print('Precision: %f' % precision3)\n",
    "recall3 = recall_score(y_test3, pred3,average='macro')\n",
    "print('Recall: %f' % recall3)\n",
    "f1_3 = f1_score(y_test3, pred3,average='macro')\n",
    "print('F1 score: %f' % f1_3)\n",
    "print(\"Confusion_matrix of LinearSVC using RandomOverSampler:\")\n",
    "fig, ax = plt.subplots(figsize=(7,7))\n",
    "plot_confusion_matrix(fit3,X_test3,y_test3,display_labels=target.classes_,\n",
    "                      cmap='GnBu',xticks_rotation='vertical',\n",
    "                      normalize=None,values_format='g',\n",
    "                      ax=ax)\n",
    "plt.savefig('LSVC_ros.svg')"
   ]
  },
  {
   "cell_type": "code",
   "execution_count": 22,
   "metadata": {
    "execution": {
     "iopub.execute_input": "2022-03-09T20:57:25.836902Z",
     "iopub.status.busy": "2022-03-09T20:57:25.836676Z",
     "iopub.status.idle": "2022-03-09T21:00:34.451468Z",
     "shell.execute_reply": "2022-03-09T21:00:34.450550Z",
     "shell.execute_reply.started": "2022-03-09T20:57:25.836876Z"
    }
   },
   "outputs": [
    {
     "name": "stdout",
     "output_type": "stream",
     "text": [
      "Fitting 3 folds for each of 24 candidates, totalling 72 fits\n",
      "Best parameter (Best CV score=0.797) from LinearSVC using SMOTE:\n",
      "{'clf1__C': 0.2, 'clf1__loss': 'squared_hinge', 'vect__analyzer': 'word', 'vect__max_df': 0.75, 'vect__max_features': 2000, 'vect__min_df': 5, 'vect__ngram_range': (1, 2)}\n",
      "Classification Report of LinearSVC using SMOTE: \n",
      "                            precision    recall  f1-score   support\n",
      "\n",
      "Cardiovascular / Pulmonary       0.88      0.84      0.86       112\n",
      "      ENT - Otolaryngology       0.77      0.83      0.80        29\n",
      "          Gastroenterology       0.84      0.85      0.84        67\n",
      "     Hematology - Oncology       0.50      0.44      0.47        27\n",
      "                Nephrology       0.64      0.75      0.69        24\n",
      "                 Neurology       0.81      0.75      0.78        67\n",
      "              Neurosurgery       0.69      0.86      0.76        28\n",
      "   Obstetrics / Gynecology       0.90      0.91      0.91        47\n",
      "             Ophthalmology       0.92      0.88      0.90        25\n",
      "           Pain Management       0.93      0.78      0.85        18\n",
      "     Pediatrics - Neonatal       0.57      0.62      0.59        21\n",
      "   Psychiatry / Psychology       0.82      0.88      0.85        16\n",
      "                   Urology       0.83      0.81      0.82        47\n",
      "\n",
      "                  accuracy                           0.80       528\n",
      "                 macro avg       0.78      0.78      0.78       528\n",
      "              weighted avg       0.80      0.80      0.80       528\n",
      " \n",
      "\n",
      "Accuracy scored from LinearSVC using SMOTE:  0.8011363636363636 \n",
      "\n",
      "Precision: 0.775894\n",
      "Recall: 0.783900\n",
      "F1 score: 0.777784\n",
      "Confusion_matrix of LinearSVC using SMOTE:\n"
     ]
    },
    {
     "data": {
      "image/png": "[encoded data removed]",
      "text/plain": [
       "<Figure size 504x504 with 2 Axes>"
      ]
     },
     "metadata": {
      "needs_background": "light"
     },
     "output_type": "display_data"
    }
   ],
   "source": [
    "#Classification of LinearSVC with SMOTE\n",
    "\n",
    "#Train test splitting\n",
    "X_train4, X_test4, y_train4, y_test4 =train_test_split(df_new['cleaned'].tolist(),df_new['medical_specialty'],\n",
    "                                       stratify=labels,test_size=0.30, random_state=42)\n",
    "\n",
    "#Creating Pipeline for all methods:\n",
    "pipeline4 = Pipeline([\n",
    "    ('vect',TfidfVectorizer()),\n",
    "    ('smt', SMOTE( random_state=42)),\n",
    "    ('pc',TruncatedSVD(n_components=500,random_state=42)),\n",
    "    ('clf1', LinearSVC(random_state=42))\n",
    "])\n",
    "\n",
    "#Parameters for all methods \n",
    "\n",
    "parameters4 = {\n",
    "     'vect__analyzer':('word','char'),\n",
    "    'vect__ngram_range':((1,3),(1,2)),\n",
    "    'vect__max_df':[0.75,0.95],\n",
    "    'vect__min_df':[5],\n",
    "    'vect__max_features':[2000],\n",
    "    'clf1__loss':['squared_hinge'],\n",
    "    'clf1__C': [0.2,0.3,0.5]\n",
    "}\n",
    "\n",
    "\n",
    "sfold=StratifiedKFold(n_splits=3,shuffle=True,random_state=42)\n",
    "\n",
    "grid_search4 = GridSearchCV(pipeline4, parameters4, cv=sfold,n_jobs=-1, verbose=1)\n",
    "\n",
    "fit4=grid_search4.fit(X_train4, y_train4)\n",
    "\n",
    "print(\"Best parameter (Best CV score=%0.3f) from LinearSVC using SMOTE:\" % grid_search4.best_score_)\n",
    "print(grid_search4.best_params_)\n",
    "fit_model4= grid_search4.best_estimator_\n",
    "pred4 = fit_model4.predict(X_test4)\n",
    "\n",
    "#Results \n",
    "print(\"Classification Report of LinearSVC using SMOTE: \")\n",
    "print(classification_report(y_test4, pred4),\"\\n\")\n",
    "accuracy_4=accuracy_score(y_test4, pred4)\n",
    "print(\"Accuracy scored from LinearSVC using SMOTE: \",accuracy_4,\"\\n\")\n",
    "conmax4=confusion_matrix(y_test4, pred4)\n",
    "precision4 = precision_score(y_test4, pred4,average='macro')\n",
    "print('Precision: %f' % precision4)\n",
    "recall4 = recall_score(y_test4, pred4,average='macro')\n",
    "print('Recall: %f' % recall4)\n",
    "f1_4 = f1_score(y_test4, pred4,average='macro')\n",
    "print('F1 score: %f' % f1_4)\n",
    "print(\"Confusion_matrix of LinearSVC using SMOTE:\")\n",
    "fig, ax = plt.subplots(figsize=(7,7))\n",
    "plot_confusion_matrix(fit4,X_test4,y_test4,display_labels=target.classes_,\n",
    "                      cmap='GnBu',xticks_rotation='vertical',\n",
    "                      normalize=None,values_format='g',\n",
    "                      ax=ax)\n",
    "plt.savefig('LSVC_smote.svg')"
   ]
  },
  {
   "cell_type": "code",
   "execution_count": 23,
   "metadata": {
    "execution": {
     "iopub.execute_input": "2022-03-09T21:00:34.453701Z",
     "iopub.status.busy": "2022-03-09T21:00:34.453371Z",
     "iopub.status.idle": "2022-03-09T21:01:42.898684Z",
     "shell.execute_reply": "2022-03-09T21:01:42.897831Z",
     "shell.execute_reply.started": "2022-03-09T21:00:34.453658Z"
    }
   },
   "outputs": [
    {
     "name": "stdout",
     "output_type": "stream",
     "text": [
      "Fitting 3 folds for each of 24 candidates, totalling 72 fits\n",
      "Best parameter (Best CV score=0.728) from LinearSVC using RandomUnderSampler:\n",
      "{'clf1__C': 0.3, 'clf1__loss': 'squared_hinge', 'vect__analyzer': 'word', 'vect__max_df': 0.95, 'vect__max_features': 2000, 'vect__min_df': 5, 'vect__ngram_range': (1, 2)}\n",
      "Classification Report of LinearSVC using RandomUnderSampler: \n",
      "                            precision    recall  f1-score   support\n",
      "\n",
      "Cardiovascular / Pulmonary       0.89      0.76      0.82       112\n",
      "      ENT - Otolaryngology       0.71      0.86      0.78        29\n",
      "          Gastroenterology       0.84      0.73      0.78        67\n",
      "     Hematology - Oncology       0.41      0.41      0.41        27\n",
      "                Nephrology       0.54      0.79      0.64        24\n",
      "                 Neurology       0.80      0.66      0.72        67\n",
      "              Neurosurgery       0.55      0.79      0.65        28\n",
      "   Obstetrics / Gynecology       0.93      0.87      0.90        47\n",
      "             Ophthalmology       0.92      0.92      0.92        25\n",
      "           Pain Management       0.71      0.83      0.77        18\n",
      "     Pediatrics - Neonatal       0.41      0.57      0.48        21\n",
      "   Psychiatry / Psychology       0.65      0.94      0.77        16\n",
      "                   Urology       0.88      0.74      0.80        47\n",
      "\n",
      "                  accuracy                           0.75       528\n",
      "                 macro avg       0.71      0.76      0.73       528\n",
      "              weighted avg       0.78      0.75      0.76       528\n",
      " \n",
      "\n",
      "Accuracy scored from LinearSVC using RandomUnderSampler:  0.75 \n",
      "\n",
      "Precision: 0.711682\n",
      "Recall: 0.759471\n",
      "F1 score: 0.726659\n",
      "Confusion_matrix of LinearSVC using RandomUnderSampler:\n"
     ]
    },
    {
     "data": {
      "image/png": "[encoded data removed]",
      "text/plain": [
       "<Figure size 504x504 with 2 Axes>"
      ]
     },
     "metadata": {
      "needs_background": "light"
     },
     "output_type": "display_data"
    }
   ],
   "source": [
    "#Classification of LinearSVC with RandomUnderSampler\n",
    "\n",
    "#Train test splitting\n",
    "X_train5, X_test5, y_train5, y_test5 =train_test_split(df_new['cleaned'].tolist(),df_new['medical_specialty'],\n",
    "                                       stratify=labels,test_size=0.30, random_state=42)\n",
    "\n",
    "#Creating Pipeline for all methods:\n",
    "pipeline5 = Pipeline([\n",
    "    ('vect',TfidfVectorizer()),\n",
    "     ('rm',RandomUnderSampler( random_state=42)),\n",
    "       ('pc',TruncatedSVD(n_components=500,random_state=42)),\n",
    "    ('clf1', LinearSVC(random_state=42))\n",
    "])\n",
    "\n",
    "#Parameters for all methods \n",
    "parameters5 = {\n",
    "      'vect__analyzer':('word','char'),\n",
    "    'vect__ngram_range':((1,3),(1,2)),\n",
    "    'vect__max_df':[0.75,0.95],\n",
    "    'vect__min_df':[5],\n",
    "    'vect__max_features':[2000],\n",
    "    'clf1__loss':['squared_hinge'],\n",
    "    'clf1__C': [0.2,0.3,0.5]\n",
    "}\n",
    "\n",
    "  \n",
    "sfold=StratifiedKFold(n_splits=3,shuffle=True,random_state=42)\n",
    "grid_search5 = GridSearchCV(pipeline5, parameters5, cv=sfold,n_jobs=-1, verbose=1)\n",
    "fit5=grid_search5.fit(X_train5, y_train5)\n",
    "\n",
    "\n",
    "print(\"Best parameter (Best CV score=%0.3f) from LinearSVC using RandomUnderSampler:\" % grid_search5.best_score_)\n",
    "print(grid_search5.best_params_)\n",
    "fit_model5= grid_search5.best_estimator_\n",
    "pred5 = fit_model5.predict(X_test5)\n",
    "\n",
    "#Results \n",
    "print(\"Classification Report of LinearSVC using RandomUnderSampler: \")\n",
    "print(classification_report(y_test5, pred5),\"\\n\")\n",
    "accuracy_5=accuracy_score(y_test5, pred5)\n",
    "print(\"Accuracy scored from LinearSVC using RandomUnderSampler: \",accuracy_5,\"\\n\")\n",
    "conmax5=confusion_matrix(y_test5, pred5)\n",
    "precision5 = precision_score(y_test5, pred5,average='macro')\n",
    "print('Precision: %f' % precision5)\n",
    "recall5 = recall_score(y_test5, pred5,average='macro')\n",
    "print('Recall: %f' % recall5)\n",
    "f1_5 = f1_score(y_test5, pred5,average='macro')\n",
    "print('F1 score: %f' % f1_5)\n",
    "print(\"Confusion_matrix of LinearSVC using RandomUnderSampler:\")\n",
    "fig, ax = plt.subplots(figsize=(7,7))\n",
    "plot_confusion_matrix(fit5,X_test5,y_test5,display_labels=target.classes_,\n",
    "                      cmap='GnBu',xticks_rotation='vertical',\n",
    "                      normalize=None,values_format='g',\n",
    "                      ax=ax)\n",
    "plt.savefig('LSVC_rus.svg')"
   ]
  },
  {
   "cell_type": "code",
   "execution_count": 24,
   "metadata": {
    "execution": {
     "iopub.execute_input": "2022-03-09T21:01:42.900635Z",
     "iopub.status.busy": "2022-03-09T21:01:42.899999Z",
     "iopub.status.idle": "2022-03-09T21:03:20.926998Z",
     "shell.execute_reply": "2022-03-09T21:03:20.926100Z",
     "shell.execute_reply.started": "2022-03-09T21:01:42.900596Z"
    },
    "scrolled": true
   },
   "outputs": [
    {
     "name": "stdout",
     "output_type": "stream",
     "text": [
      "Fitting 3 folds for each of 24 candidates, totalling 72 fits\n",
      "Best parameter (Best CV score=0.736) from LinearSVC using SMOTEENN:\n",
      "{'clf1__C': 0.5, 'clf1__loss': 'squared_hinge', 'vect__analyzer': 'word', 'vect__max_df': 0.75, 'vect__max_features': 2000, 'vect__min_df': 5, 'vect__ngram_range': (1, 3)}\n",
      "Classification Report of LinearSVC using SMOTEENN: \n",
      "                            precision    recall  f1-score   support\n",
      "\n",
      "Cardiovascular / Pulmonary       0.97      0.50      0.66       112\n",
      "      ENT - Otolaryngology       0.71      0.86      0.78        29\n",
      "          Gastroenterology       0.78      0.84      0.81        67\n",
      "     Hematology - Oncology       0.32      0.63      0.42        27\n",
      "                Nephrology       0.48      0.83      0.61        24\n",
      "                 Neurology       0.86      0.72      0.78        67\n",
      "              Neurosurgery       0.60      0.86      0.71        28\n",
      "   Obstetrics / Gynecology       0.95      0.81      0.87        47\n",
      "             Ophthalmology       0.92      0.92      0.92        25\n",
      "           Pain Management       0.79      0.83      0.81        18\n",
      "     Pediatrics - Neonatal       0.52      0.62      0.57        21\n",
      "   Psychiatry / Psychology       0.83      0.94      0.88        16\n",
      "                   Urology       0.84      0.81      0.83        47\n",
      "\n",
      "                  accuracy                           0.73       528\n",
      "                 macro avg       0.74      0.78      0.74       528\n",
      "              weighted avg       0.80      0.73      0.74       528\n",
      " \n",
      "\n",
      "Accuracy scored from LinearSVC using SMOTEENN:  0.7348484848484849 \n",
      "\n",
      "Precision: 0.736071\n",
      "Recall: 0.781640\n",
      "F1 score: 0.741638\n",
      "Confusion_matrix of LinearSVC using SMOTEENN:\n"
     ]
    },
    {
     "data": {
      "image/png": "[encoded data removed]",
      "text/plain": [
       "<Figure size 504x504 with 2 Axes>"
      ]
     },
     "metadata": {
      "needs_background": "light"
     },
     "output_type": "display_data"
    }
   ],
   "source": [
    "#Classification of LinearSVC with SMOTEENN\n",
    "\n",
    "#Train test splitting\n",
    "X_train6, X_test6, y_train6, y_test6 =train_test_split(df_new['cleaned'].tolist(),df_new['medical_specialty'],\n",
    "                                       stratify=labels,test_size=0.30, random_state=42)\n",
    "\n",
    "#Creating Pipeline for all methods: \n",
    "pipeline6 = Pipeline([\n",
    "    ('vect',TfidfVectorizer()),\n",
    "   ('smt', SMOTEENN( random_state=42)),\n",
    "     ('pc',TruncatedSVD(n_components=500,random_state=42)),\n",
    "     ('clf1', LinearSVC(random_state=42))\n",
    "])\n",
    "\n",
    "#Parameters for all methods \n",
    "parameters6 = {\n",
    "      'vect__analyzer':('word','char'),\n",
    "    'vect__ngram_range':((1,3),(1,2)),\n",
    "    'vect__max_df':[0.75,0.95],\n",
    "    'vect__min_df':[5],\n",
    "    'vect__max_features':[2000],\n",
    "    'clf1__loss':['squared_hinge'],\n",
    "    'clf1__C': [0.2,0.3,0.5]\n",
    "}\n",
    "\n",
    "\n",
    "sfold=StratifiedKFold(n_splits=3,shuffle=True,random_state=42)\n",
    "grid_search6 = GridSearchCV(pipeline6, parameters6, cv=sfold,n_jobs=-1, verbose=1)\n",
    "fit6=grid_search6.fit(X_train6, y_train6)\n",
    "\n",
    "\n",
    "print(\"Best parameter (Best CV score=%0.3f) from LinearSVC using SMOTEENN:\" % grid_search6.best_score_)\n",
    "print(grid_search6.best_params_)\n",
    "fit_model6= grid_search6.best_estimator_\n",
    "pred6 = fit_model6.predict(X_test6)\n",
    "\n",
    "\n",
    "#Results \n",
    "\n",
    "print(\"Classification Report of LinearSVC using SMOTEENN: \")\n",
    "print(classification_report(y_test6, pred6),\"\\n\")\n",
    "accuracy_6=accuracy_score(y_test6, pred6)\n",
    "print(\"Accuracy scored from LinearSVC using SMOTEENN: \",accuracy_6,\"\\n\")\n",
    "conmax6=confusion_matrix(y_test6, pred6)\n",
    "precision6 = precision_score(y_test6, pred6,average='macro')\n",
    "print('Precision: %f' % precision6)\n",
    "recall6 = recall_score(y_test6, pred6,average='macro')\n",
    "print('Recall: %f' % recall6)\n",
    "f1_6 = f1_score(y_test6, pred6,average='macro')\n",
    "print('F1 score: %f' % f1_6)\n",
    "print(\"Confusion_matrix of LinearSVC using SMOTEENN:\")\n",
    "fig, ax = plt.subplots(figsize=(7,7))\n",
    "plot_confusion_matrix(fit6,X_test6,y_test6,display_labels=target.classes_,\n",
    "                      cmap='GnBu',xticks_rotation='vertical',\n",
    "                      normalize=None,values_format='g',\n",
    "                      ax=ax)\n",
    "plt.savefig('LSVC_smoteenn.svg')"
   ]
  },
  {
   "cell_type": "code",
   "execution_count": 25,
   "metadata": {
    "execution": {
     "iopub.execute_input": "2022-03-09T21:03:20.929400Z",
     "iopub.status.busy": "2022-03-09T21:03:20.928614Z",
     "iopub.status.idle": "2022-03-09T21:03:20.950089Z",
     "shell.execute_reply": "2022-03-09T21:03:20.949267Z",
     "shell.execute_reply.started": "2022-03-09T21:03:20.929315Z"
    }
   },
   "outputs": [
    {
     "data": {
      "text/html": [
       "<div>\n",
       "<style scoped>\n",
       "    .dataframe tbody tr th:only-of-type {\n",
       "        vertical-align: middle;\n",
       "    }\n",
       "\n",
       "    .dataframe tbody tr th {\n",
       "        vertical-align: top;\n",
       "    }\n",
       "\n",
       "    .dataframe thead th {\n",
       "        text-align: right;\n",
       "    }\n",
       "</style>\n",
       "<table border=\"1\" class=\"dataframe\">\n",
       "  <thead>\n",
       "    <tr style=\"text-align: right;\">\n",
       "      <th></th>\n",
       "      <th>Classification Tech</th>\n",
       "      <th>Accuracy</th>\n",
       "      <th>Precision</th>\n",
       "      <th>Recall</th>\n",
       "      <th>F1-score</th>\n",
       "    </tr>\n",
       "  </thead>\n",
       "  <tbody>\n",
       "    <tr>\n",
       "      <th>0</th>\n",
       "      <td>RandomOverSampler</td>\n",
       "      <td>0.81</td>\n",
       "      <td>0.79</td>\n",
       "      <td>0.79</td>\n",
       "      <td>0.79</td>\n",
       "    </tr>\n",
       "    <tr>\n",
       "      <th>1</th>\n",
       "      <td>SMOTE</td>\n",
       "      <td>0.80</td>\n",
       "      <td>0.78</td>\n",
       "      <td>0.78</td>\n",
       "      <td>0.78</td>\n",
       "    </tr>\n",
       "    <tr>\n",
       "      <th>2</th>\n",
       "      <td>RandomUnderSampler</td>\n",
       "      <td>0.75</td>\n",
       "      <td>0.71</td>\n",
       "      <td>0.76</td>\n",
       "      <td>0.73</td>\n",
       "    </tr>\n",
       "    <tr>\n",
       "      <th>3</th>\n",
       "      <td>SMOTEENN</td>\n",
       "      <td>0.73</td>\n",
       "      <td>0.74</td>\n",
       "      <td>0.78</td>\n",
       "      <td>0.74</td>\n",
       "    </tr>\n",
       "  </tbody>\n",
       "</table>\n",
       "</div>"
      ],
      "text/plain": [
       "  Classification Tech  Accuracy  Precision  Recall  F1-score\n",
       "0   RandomOverSampler      0.81       0.79    0.79      0.79\n",
       "1               SMOTE      0.80       0.78    0.78      0.78\n",
       "2  RandomUnderSampler      0.75       0.71    0.76      0.73\n",
       "3            SMOTEENN      0.73       0.74    0.78      0.74"
      ]
     },
     "execution_count": 25,
     "metadata": {},
     "output_type": "execute_result"
    }
   ],
   "source": [
    "#Results obtained from all classifications:\n",
    "\n",
    "import pandas as pd\n",
    "import numpy as np\n",
    "import matplotlib.pyplot as plt\n",
    "\n",
    "data={'Classification Tech':['RandomOverSampler','SMOTE','RandomUnderSampler','SMOTEENN'],\n",
    "      'Accuracy': [accuracy_3,accuracy_4,accuracy_5,accuracy_6],\n",
    "      'Precision': [precision3,precision4,precision5,precision6],\n",
    "      'Recall': [recall3,recall4,recall5,recall6],\n",
    "      'F1-score': [f1_3,f1_4,f1_5,f1_6]}\n",
    "     \n",
    "comparedf=round(pd.DataFrame(data),2)\n",
    "comparedf\n"
   ]
  }
 ],
 "metadata": {
  "kernelspec": {
   "display_name": "Python 3 (ipykernel)",
   "language": "python",
   "name": "python3"
  },
  "language_info": {
   "codemirror_mode": {
    "name": "ipython",
    "version": 3
   },
   "file_extension": ".py",
   "mimetype": "text/x-python",
   "name": "python",
   "nbconvert_exporter": "python",
   "pygments_lexer": "ipython3",
   "version": "3.9.7"
  }
 },
 "nbformat": 4,
 "nbformat_minor": 4
}
